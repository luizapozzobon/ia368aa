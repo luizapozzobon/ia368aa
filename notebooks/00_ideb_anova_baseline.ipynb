{
 "cells": [
  {
   "cell_type": "code",
   "execution_count": 1,
   "id": "5c3a4705",
   "metadata": {},
   "outputs": [],
   "source": [
    "import pandas as pd\n",
    "import numpy as np\n",
    "from matplotlib import pyplot as plt\n",
    "import scipy.stats as stats\n",
    "\n",
    "import statsmodels.api as sm\n",
    "from statsmodels.formula.api import ols"
   ]
  },
  {
   "cell_type": "code",
   "execution_count": 2,
   "id": "5c444b67",
   "metadata": {},
   "outputs": [],
   "source": [
    "capitals = pd.read_csv(\"../assets/capitais_brasil.csv\")"
   ]
  },
  {
   "cell_type": "code",
   "execution_count": 3,
   "id": "adc8264c",
   "metadata": {},
   "outputs": [],
   "source": [
    "network = {\"county\": \"Municipal\", \n",
    "           \"state\": \"Estadual\", \n",
    "           \"federal\": \"Federal\", \n",
    "           \"public\": \"Pública\"}\n",
    "level = [\"elementary\", \"middle\"] #, \"high\"] # Tirei o high pois tem só 2017 e 2019"
   ]
  },
  {
   "cell_type": "code",
   "execution_count": 4,
   "id": "98da95be",
   "metadata": {},
   "outputs": [],
   "source": [
    "for l in level:\n",
    "    dfs = []\n",
    "    for net, esfera in network.items():\n",
    "        df = pd.read_csv(f\"../outputs/ideb_capitals_{l}_{net}.csv\")\n",
    "        df = df.melt(id_vars=[\"Código do Município\"], \n",
    "                     var_name=\"Ano\", value_name=\"IDEB\")\n",
    "        df[\"Esfera\"] = esfera\n",
    "        df = df.join(capitals.set_index(\"Código\"), on=\"Código do Município\")\n",
    "        dfs.append(df)\n",
    "        \n",
    "ideb = pd.concat(dfs)"
   ]
  },
  {
   "cell_type": "code",
   "execution_count": 5,
   "id": "a8ef4fb4",
   "metadata": {},
   "outputs": [
    {
     "data": {
      "text/html": [
       "<div>\n",
       "<style scoped>\n",
       "    .dataframe tbody tr th:only-of-type {\n",
       "        vertical-align: middle;\n",
       "    }\n",
       "\n",
       "    .dataframe tbody tr th {\n",
       "        vertical-align: top;\n",
       "    }\n",
       "\n",
       "    .dataframe thead th {\n",
       "        text-align: right;\n",
       "    }\n",
       "</style>\n",
       "<table border=\"1\" class=\"dataframe\">\n",
       "  <thead>\n",
       "    <tr style=\"text-align: right;\">\n",
       "      <th></th>\n",
       "      <th>Código do Município</th>\n",
       "      <th>Ano</th>\n",
       "      <th>IDEB</th>\n",
       "      <th>Esfera</th>\n",
       "      <th>Capitais</th>\n",
       "      <th>Estados</th>\n",
       "      <th>Siglas dos Estados</th>\n",
       "      <th>Regiões</th>\n",
       "    </tr>\n",
       "  </thead>\n",
       "  <tbody>\n",
       "    <tr>\n",
       "      <th>0</th>\n",
       "      <td>1100205</td>\n",
       "      <td>2005</td>\n",
       "      <td>3.3</td>\n",
       "      <td>Municipal</td>\n",
       "      <td>Porto Velho</td>\n",
       "      <td>Rondônia</td>\n",
       "      <td>RO</td>\n",
       "      <td>Norte</td>\n",
       "    </tr>\n",
       "    <tr>\n",
       "      <th>1</th>\n",
       "      <td>1200401</td>\n",
       "      <td>2005</td>\n",
       "      <td>2.8</td>\n",
       "      <td>Municipal</td>\n",
       "      <td>Rio Branco</td>\n",
       "      <td>Acre</td>\n",
       "      <td>AC</td>\n",
       "      <td>Norte</td>\n",
       "    </tr>\n",
       "    <tr>\n",
       "      <th>2</th>\n",
       "      <td>1302603</td>\n",
       "      <td>2005</td>\n",
       "      <td>2.6</td>\n",
       "      <td>Municipal</td>\n",
       "      <td>Manaus</td>\n",
       "      <td>Amazonas</td>\n",
       "      <td>AM</td>\n",
       "      <td>Norte</td>\n",
       "    </tr>\n",
       "    <tr>\n",
       "      <th>3</th>\n",
       "      <td>1400100</td>\n",
       "      <td>2005</td>\n",
       "      <td>4.1</td>\n",
       "      <td>Municipal</td>\n",
       "      <td>Boa Vista</td>\n",
       "      <td>Roraima</td>\n",
       "      <td>RR</td>\n",
       "      <td>Norte</td>\n",
       "    </tr>\n",
       "    <tr>\n",
       "      <th>4</th>\n",
       "      <td>1501402</td>\n",
       "      <td>2005</td>\n",
       "      <td>3.1</td>\n",
       "      <td>Municipal</td>\n",
       "      <td>Belém</td>\n",
       "      <td>Pará</td>\n",
       "      <td>PA</td>\n",
       "      <td>Norte</td>\n",
       "    </tr>\n",
       "    <tr>\n",
       "      <th>...</th>\n",
       "      <td>...</td>\n",
       "      <td>...</td>\n",
       "      <td>...</td>\n",
       "      <td>...</td>\n",
       "      <td>...</td>\n",
       "      <td>...</td>\n",
       "      <td>...</td>\n",
       "      <td>...</td>\n",
       "    </tr>\n",
       "    <tr>\n",
       "      <th>211</th>\n",
       "      <td>4314902</td>\n",
       "      <td>2019</td>\n",
       "      <td>4.0</td>\n",
       "      <td>Pública</td>\n",
       "      <td>Porto Alegre</td>\n",
       "      <td>Rio Grande do Sul</td>\n",
       "      <td>RS</td>\n",
       "      <td>Sul</td>\n",
       "    </tr>\n",
       "    <tr>\n",
       "      <th>212</th>\n",
       "      <td>5002704</td>\n",
       "      <td>2019</td>\n",
       "      <td>4.9</td>\n",
       "      <td>Pública</td>\n",
       "      <td>Campo Grande</td>\n",
       "      <td>Mato Grosso do Sul</td>\n",
       "      <td>MS</td>\n",
       "      <td>Centro-Oeste</td>\n",
       "    </tr>\n",
       "    <tr>\n",
       "      <th>213</th>\n",
       "      <td>5103403</td>\n",
       "      <td>2019</td>\n",
       "      <td>4.3</td>\n",
       "      <td>Pública</td>\n",
       "      <td>Cuiabá</td>\n",
       "      <td>Mato Grosso</td>\n",
       "      <td>MT</td>\n",
       "      <td>Centro-Oeste</td>\n",
       "    </tr>\n",
       "    <tr>\n",
       "      <th>214</th>\n",
       "      <td>5208707</td>\n",
       "      <td>2019</td>\n",
       "      <td>5.4</td>\n",
       "      <td>Pública</td>\n",
       "      <td>Goiânia</td>\n",
       "      <td>Goiás</td>\n",
       "      <td>GO</td>\n",
       "      <td>Centro-Oeste</td>\n",
       "    </tr>\n",
       "    <tr>\n",
       "      <th>215</th>\n",
       "      <td>5300108</td>\n",
       "      <td>2019</td>\n",
       "      <td>4.6</td>\n",
       "      <td>Pública</td>\n",
       "      <td>Brasília</td>\n",
       "      <td>Distrito Federal</td>\n",
       "      <td>DF</td>\n",
       "      <td>Centro-Oeste</td>\n",
       "    </tr>\n",
       "  </tbody>\n",
       "</table>\n",
       "<p>768 rows × 8 columns</p>\n",
       "</div>"
      ],
      "text/plain": [
       "     Código do Município   Ano IDEB     Esfera      Capitais  \\\n",
       "0                1100205  2005  3.3  Municipal   Porto Velho   \n",
       "1                1200401  2005  2.8  Municipal    Rio Branco   \n",
       "2                1302603  2005  2.6  Municipal        Manaus   \n",
       "3                1400100  2005  4.1  Municipal     Boa Vista   \n",
       "4                1501402  2005  3.1  Municipal         Belém   \n",
       "..                   ...   ...  ...        ...           ...   \n",
       "211              4314902  2019  4.0    Pública  Porto Alegre   \n",
       "212              5002704  2019  4.9    Pública  Campo Grande   \n",
       "213              5103403  2019  4.3    Pública        Cuiabá   \n",
       "214              5208707  2019  5.4    Pública       Goiânia   \n",
       "215              5300108  2019  4.6    Pública      Brasília   \n",
       "\n",
       "                Estados Siglas dos Estados       Regiões  \n",
       "0              Rondônia                 RO         Norte  \n",
       "1                  Acre                 AC         Norte  \n",
       "2              Amazonas                 AM         Norte  \n",
       "3               Roraima                 RR         Norte  \n",
       "4                  Pará                 PA         Norte  \n",
       "..                  ...                ...           ...  \n",
       "211   Rio Grande do Sul                 RS           Sul  \n",
       "212  Mato Grosso do Sul                 MS  Centro-Oeste  \n",
       "213         Mato Grosso                 MT  Centro-Oeste  \n",
       "214               Goiás                 GO  Centro-Oeste  \n",
       "215    Distrito Federal                 DF  Centro-Oeste  \n",
       "\n",
       "[768 rows x 8 columns]"
      ]
     },
     "execution_count": 5,
     "metadata": {},
     "output_type": "execute_result"
    }
   ],
   "source": [
    "ideb"
   ]
  },
  {
   "cell_type": "code",
   "execution_count": 6,
   "id": "7df7aa0f",
   "metadata": {},
   "outputs": [
    {
     "data": {
      "text/plain": [
       "Estadual     216\n",
       "Pública      216\n",
       "Municipal    208\n",
       "Federal      128\n",
       "Name: Esfera, dtype: int64"
      ]
     },
     "execution_count": 6,
     "metadata": {},
     "output_type": "execute_result"
    }
   ],
   "source": [
    "ideb[\"Esfera\"].value_counts()"
   ]
  },
  {
   "cell_type": "code",
   "execution_count": 7,
   "id": "68f8bd6f",
   "metadata": {},
   "outputs": [],
   "source": [
    "ideb.to_csv(\"../outputs/ideb_elementary_middle_anova.csv\")"
   ]
  },
  {
   "cell_type": "markdown",
   "id": "21aab77d",
   "metadata": {},
   "source": [
    "### Label Encoding"
   ]
  },
  {
   "cell_type": "code",
   "execution_count": 8,
   "id": "4c88b22e",
   "metadata": {},
   "outputs": [],
   "source": [
    "ideb_cat = ideb.copy()\n",
    "for col in [\"Esfera\", \"Capitais\", \"Estados\", \"Regiões\"]:\n",
    "    ideb_cat[col] = ideb_cat[col].astype('category').cat.codes"
   ]
  },
  {
   "cell_type": "code",
   "execution_count": 9,
   "id": "92158217",
   "metadata": {},
   "outputs": [
    {
     "data": {
      "text/html": [
       "<div>\n",
       "<style scoped>\n",
       "    .dataframe tbody tr th:only-of-type {\n",
       "        vertical-align: middle;\n",
       "    }\n",
       "\n",
       "    .dataframe tbody tr th {\n",
       "        vertical-align: top;\n",
       "    }\n",
       "\n",
       "    .dataframe thead th {\n",
       "        text-align: right;\n",
       "    }\n",
       "</style>\n",
       "<table border=\"1\" class=\"dataframe\">\n",
       "  <thead>\n",
       "    <tr style=\"text-align: right;\">\n",
       "      <th></th>\n",
       "      <th>Código do Município</th>\n",
       "      <th>Ano</th>\n",
       "      <th>IDEB</th>\n",
       "      <th>Esfera</th>\n",
       "      <th>Capitais</th>\n",
       "      <th>Estados</th>\n",
       "      <th>Siglas dos Estados</th>\n",
       "      <th>Regiões</th>\n",
       "    </tr>\n",
       "  </thead>\n",
       "  <tbody>\n",
       "    <tr>\n",
       "      <th>0</th>\n",
       "      <td>1100205</td>\n",
       "      <td>2005</td>\n",
       "      <td>3.3</td>\n",
       "      <td>2</td>\n",
       "      <td>18</td>\n",
       "      <td>21</td>\n",
       "      <td>RO</td>\n",
       "      <td>2</td>\n",
       "    </tr>\n",
       "    <tr>\n",
       "      <th>1</th>\n",
       "      <td>1200401</td>\n",
       "      <td>2005</td>\n",
       "      <td>2.8</td>\n",
       "      <td>2</td>\n",
       "      <td>20</td>\n",
       "      <td>0</td>\n",
       "      <td>AC</td>\n",
       "      <td>2</td>\n",
       "    </tr>\n",
       "  </tbody>\n",
       "</table>\n",
       "</div>"
      ],
      "text/plain": [
       "   Código do Município   Ano IDEB  Esfera  Capitais  Estados  \\\n",
       "0              1100205  2005  3.3       2        18       21   \n",
       "1              1200401  2005  2.8       2        20        0   \n",
       "\n",
       "  Siglas dos Estados  Regiões  \n",
       "0                 RO        2  \n",
       "1                 AC        2  "
      ]
     },
     "execution_count": 9,
     "metadata": {},
     "output_type": "execute_result"
    }
   ],
   "source": [
    "ideb_cat.head(2)"
   ]
  },
  {
   "cell_type": "markdown",
   "id": "5b0b814b",
   "metadata": {},
   "source": [
    "## Sem fitar"
   ]
  },
  {
   "cell_type": "code",
   "execution_count": 12,
   "id": "e0a2c90d",
   "metadata": {},
   "outputs": [
    {
     "data": {
      "text/plain": [
       "F_onewayResult(statistic=33.19138188888281, pvalue=1.2479721231465649e-14)"
      ]
     },
     "execution_count": 12,
     "metadata": {},
     "output_type": "execute_result"
    }
   ],
   "source": [
    "ano = \"2015\"\n",
    "stats.f_oneway(*[ideb.query(\"Esfera == @val and Ano == @ano\")['IDEB'].replace(\"-\", -1)\n",
    "                 for val in ideb[\"Esfera\"].unique()])"
   ]
  },
  {
   "cell_type": "code",
   "execution_count": 13,
   "id": "e98f28fd",
   "metadata": {},
   "outputs": [
    {
     "data": {
      "text/plain": [
       "F_onewayResult(statistic=2.321065365231424, pvalue=0.06270853337968)"
      ]
     },
     "execution_count": 13,
     "metadata": {},
     "output_type": "execute_result"
    }
   ],
   "source": [
    "stats.f_oneway(*[ideb.query(\"Regiões == @val and Ano == @ano\")['IDEB'].replace(\"-\", -1)\n",
    "                 for val in ideb[\"Regiões\"].unique()])"
   ]
  },
  {
   "cell_type": "code",
   "execution_count": 14,
   "id": "eb2c5bee",
   "metadata": {},
   "outputs": [
    {
     "data": {
      "text/plain": [
       "F_onewayResult(statistic=0.9489148072070523, pvalue=0.5439037096428515)"
      ]
     },
     "execution_count": 14,
     "metadata": {},
     "output_type": "execute_result"
    }
   ],
   "source": [
    "stats.f_oneway(*[ideb.query(\"Capitais == @val and Ano == @ano\")['IDEB'].replace(\"-\", -1)\n",
    "                 for val in ideb[\"Capitais\"].unique()])"
   ]
  },
  {
   "cell_type": "markdown",
   "id": "e6010426",
   "metadata": {},
   "source": [
    "## Com fit (TODO)\n",
    "\n",
    "Preciso ver como usa essas funções."
   ]
  },
  {
   "cell_type": "code",
   "execution_count": null,
   "id": "9bedcbd9",
   "metadata": {},
   "outputs": [],
   "source": [
    "model = ols('IDEB ~ C(Regiões)', data=ideb_cat).fit()\n",
    "aov_table = sm.stats.anova_lm(model, typ=2)\n",
    "aov_table"
   ]
  },
  {
   "cell_type": "markdown",
   "id": "00312d6d",
   "metadata": {},
   "source": [
    "## Refs"
   ]
  },
  {
   "cell_type": "markdown",
   "id": "29be0975",
   "metadata": {},
   "source": [
    "https://www.reneshbedre.com/blog/anova.html"
   ]
  },
  {
   "cell_type": "code",
   "execution_count": null,
   "id": "a536061e",
   "metadata": {},
   "outputs": [],
   "source": []
  }
 ],
 "metadata": {
  "kernelspec": {
   "display_name": "Python 3",
   "language": "python",
   "name": "python3"
  },
  "language_info": {
   "codemirror_mode": {
    "name": "ipython",
    "version": 3
   },
   "file_extension": ".py",
   "mimetype": "text/x-python",
   "name": "python",
   "nbconvert_exporter": "python",
   "pygments_lexer": "ipython3",
   "version": "3.8.10"
  }
 },
 "nbformat": 4,
 "nbformat_minor": 5
}
